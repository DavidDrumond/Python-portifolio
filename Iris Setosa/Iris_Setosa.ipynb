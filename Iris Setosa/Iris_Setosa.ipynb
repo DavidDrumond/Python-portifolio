{
 "cells": [
  {
   "attachments": {},
   "cell_type": "markdown",
   "metadata": {},
   "source": [
    "<h3> Iris and Setosa Dataset </h3>\n",
    "\n",
    "<p> The Iris setosa dataset is a well-known and commonly used dataset in machine learning and statistics. It is often used as a beginner's dataset for classification tasks. The dataset consists of measurements of various features of Iris setosa flowers. Let's dive into more details. </p>\n",
    "\n",
    "<ul> \n",
    "\n",
    "<li>  Origin and Collection: The Iris setosa dataset was introduced by the British statistician and biologist Ronald Fisher in his 1936 paper \"The use of multiple measurements in taxonomic problems.\" The data was collected by Edgar Anderson, a biologist, who measured four features from 50 samples of Iris setosa flowers. The features include the lengths and widths of the sepals and petals. </li>\n",
    "\n",
    "<li>  Dataset Structure: The Iris setosa dataset contains a total of 150 samples, each representing an individual Iris flower. The dataset is divided into three classes or species of Iris flowers: Iris setosa, Iris versicolor, and Iris virginica. Each sample consists of four features: sepal length, sepal width, petal length, and petal width. These measurements were taken in centimeters.\n",
    "</li>\n",
    "\n",
    "<li>  Usage and Purpose:\n",
    "The dataset is commonly used to demonstrate and teach various machine learning and statistical concepts, particularly in the field of classification. Researchers and practitioners use the Iris setosa dataset to explore and experiment with different algorithms, techniques, and approaches in tasks such as pattern recognition, clustering, and classification.\n",
    "</li>\n",
    "\n",
    "<li>  Usage and Purpose:\n",
    "The dataset is commonly used to demonstrate and teach various machine learning and statistical concepts, particularly in the field of classification. Researchers and practitioners use the Iris setosa dataset to explore and experiment with different algorithms, techniques, and approaches in tasks such as pattern recognition, clustering, and classification.\n",
    "</li>\n",
    "\n",
    "<li>\n",
    "Applications:\n",
    "The Iris setosa dataset has been widely used to evaluate the performance of classification algorithms and techniques. It serves as a benchmark for comparing and assessing the accuracy of different models. Researchers have also used the dataset for visualization purposes, exploring the relationships between different features and their impact on class separation.\n",
    "</li>\n",
    "</ul>\n",
    "\n",
    "<img src =\"./Flower.jpg\" width = 300  height= 200>\n",
    "\n",
    "<>"
   ]
  },
  {
   "attachments": {},
   "cell_type": "markdown",
   "metadata": {},
   "source": []
  },
  {
   "attachments": {},
   "cell_type": "markdown",
   "metadata": {},
   "source": []
  },
  {
   "attachments": {},
   "cell_type": "markdown",
   "metadata": {},
   "source": [
    "1. Import libraries\n"
   ]
  },
  {
   "cell_type": "code",
   "execution_count": 57,
   "metadata": {},
   "outputs": [],
   "source": [
    "from sklearn import datasets\n",
    "import plotly.express as px \n",
    "import pandas as pd \n",
    "import numpy as np \n",
    "import matplotlib.pyplot as plt \n",
    "from sklearn.decomposition import PCA\n",
    "from sklearn.discriminant_analysis import LinearDiscriminantAnalysis\n",
    "from sklearn.model_selection import train_test_split\n",
    "from yellowbrick.classifier import ClassificationReport\n",
    "from yellowbrick.classifier import ConfusionMatrix"
   ]
  },
  {
   "attachments": {},
   "cell_type": "markdown",
   "metadata": {},
   "source": [
    "2. Load dataset\n"
   ]
  },
  {
   "cell_type": "code",
   "execution_count": 58,
   "metadata": {},
   "outputs": [
    {
     "data": {
      "text/plain": [
       "['DESCR',\n",
       " 'data',\n",
       " 'data_module',\n",
       " 'feature_names',\n",
       " 'filename',\n",
       " 'frame',\n",
       " 'target',\n",
       " 'target_names']"
      ]
     },
     "execution_count": 58,
     "metadata": {},
     "output_type": "execute_result"
    }
   ],
   "source": [
    "dataset = datasets.load_iris()\n",
    "dir(dataset)\n"
   ]
  },
  {
   "cell_type": "code",
   "execution_count": 59,
   "metadata": {},
   "outputs": [
    {
     "data": {
      "text/html": [
       "<div>\n",
       "<style scoped>\n",
       "    .dataframe tbody tr th:only-of-type {\n",
       "        vertical-align: middle;\n",
       "    }\n",
       "\n",
       "    .dataframe tbody tr th {\n",
       "        vertical-align: top;\n",
       "    }\n",
       "\n",
       "    .dataframe thead th {\n",
       "        text-align: right;\n",
       "    }\n",
       "</style>\n",
       "<table border=\"1\" class=\"dataframe\">\n",
       "  <thead>\n",
       "    <tr style=\"text-align: right;\">\n",
       "      <th></th>\n",
       "      <th>sepal length (cm)</th>\n",
       "      <th>sepal width (cm)</th>\n",
       "      <th>petal length (cm)</th>\n",
       "      <th>petal width (cm)</th>\n",
       "      <th>species</th>\n",
       "    </tr>\n",
       "  </thead>\n",
       "  <tbody>\n",
       "    <tr>\n",
       "      <th>count</th>\n",
       "      <td>150</td>\n",
       "      <td>150</td>\n",
       "      <td>150</td>\n",
       "      <td>150</td>\n",
       "      <td>150</td>\n",
       "    </tr>\n",
       "    <tr>\n",
       "      <th>unique</th>\n",
       "      <td>35</td>\n",
       "      <td>23</td>\n",
       "      <td>43</td>\n",
       "      <td>22</td>\n",
       "      <td>3</td>\n",
       "    </tr>\n",
       "    <tr>\n",
       "      <th>top</th>\n",
       "      <td>5.0</td>\n",
       "      <td>3.0</td>\n",
       "      <td>1.5</td>\n",
       "      <td>0.2</td>\n",
       "      <td>versicolor</td>\n",
       "    </tr>\n",
       "    <tr>\n",
       "      <th>freq</th>\n",
       "      <td>10</td>\n",
       "      <td>26</td>\n",
       "      <td>13</td>\n",
       "      <td>29</td>\n",
       "      <td>50</td>\n",
       "    </tr>\n",
       "  </tbody>\n",
       "</table>\n",
       "</div>"
      ],
      "text/plain": [
       "       sepal length (cm) sepal width (cm) petal length (cm) petal width (cm)  \\\n",
       "count                150              150               150              150   \n",
       "unique                35               23                43               22   \n",
       "top                  5.0              3.0               1.5              0.2   \n",
       "freq                  10               26                13               29   \n",
       "\n",
       "           species  \n",
       "count          150  \n",
       "unique           3  \n",
       "top     versicolor  \n",
       "freq            50  "
      ]
     },
     "execution_count": 59,
     "metadata": {},
     "output_type": "execute_result"
    }
   ],
   "source": [
    "X = dataset.data\n",
    "Y = dataset.target\n",
    "\n",
    "fn = dataset.feature_names[:]\n",
    "fn.append('species')\n",
    "Yn = np.array([dataset.target_names[i] for i in Y])                       # Describe outputs by target name \n",
    "\n",
    "\n",
    "total_data = np.concatenate((X , Yn.reshape(150,1)) , axis =1)   # Create dataframe with sklearn dataset \n",
    "df = pd.DataFrame(total_data, columns = fn)\n",
    "df.describe()\n",
    "\n"
   ]
  },
  {
   "cell_type": "code",
   "execution_count": 60,
   "metadata": {},
   "outputs": [],
   "source": [
    "Xtrain, Xtest, Ytrain, Ytest = train_test_split(X, Y, shuffle=True, test_size= 0.33)\n",
    "\n"
   ]
  },
  {
   "attachments": {},
   "cell_type": "markdown",
   "metadata": {},
   "source": [
    "3. Create PCA visualization "
   ]
  },
  {
   "cell_type": "code",
   "execution_count": 61,
   "metadata": {},
   "outputs": [
    {
     "data": {
      "application/vnd.plotly.v1+json": {
       "config": {
        "plotlyServerURL": "https://plot.ly"
       },
       "data": [
        {
         "hovertemplate": "color=setosa<br>PC 1=%{x}<br>PC 2=%{y}<br>PC 3=%{z}<extra></extra>",
         "legendgroup": "setosa",
         "marker": {
          "color": "#636efa",
          "symbol": "circle"
         },
         "mode": "markers",
         "name": "setosa",
         "scene": "scene",
         "showlegend": true,
         "type": "scatter3d",
         "x": [
          -2.684125625969538,
          -2.7141416872943256,
          -2.8889905690592967,
          -2.7453428556414097,
          -2.72871653655453,
          -2.280859632844492,
          -2.8205377507406086,
          -2.6261449731466326,
          -2.8863827317805537,
          -2.6727557978209546,
          -2.506947090651856,
          -2.6127552309087223,
          -2.7861092661880176,
          -3.223803743865652,
          -2.644750389942029,
          -2.386039033531133,
          -2.6235278752244264,
          -2.6482967062543814,
          -2.1998203236175797,
          -2.587986399878768,
          -2.310256215242518,
          -2.543705228757156,
          -3.2159394156486107,
          -2.302733182226207,
          -2.3557540491237723,
          -2.506668906925822,
          -2.4688200731213388,
          -2.562319906196016,
          -2.639534715384543,
          -2.631989387274346,
          -2.5873984766893523,
          -2.409932497002175,
          -2.6488623343499116,
          -2.5987367491005866,
          -2.6369268781057995,
          -2.8662416521186693,
          -2.6252380498503722,
          -2.800684115448222,
          -2.980502043781994,
          -2.590006313968096,
          -2.770102426027902,
          -2.849368705043104,
          -2.9974065465949082,
          -2.405614485097486,
          -2.209489237783679,
          -2.714451426757708,
          -2.5381482589989397,
          -2.83946216764285,
          -2.543085749830393,
          -2.7033597823351596
         ],
         "y": [
          0.31939724658510205,
          -0.1770012250647802,
          -0.14494942608555728,
          -0.31829897925191586,
          0.3267545129349196,
          0.7413304490629142,
          -0.0894613845285689,
          0.16338495969832847,
          -0.5783117541867034,
          -0.11377424587411666,
          0.6450688986485735,
          0.01472993916137434,
          -0.23511200020171824,
          -0.5113945870063819,
          1.1787646364375743,
          1.3380623304006514,
          0.8106795141812572,
          0.3118491445933545,
          0.8728390389622102,
          0.5135603087492765,
          0.39134593565389403,
          0.43299606327902773,
          0.13346806953852564,
          0.09870885481409938,
          -0.03728185967738277,
          -0.1460168804952675,
          0.13095148943525006,
          0.3677188574341998,
          0.3120399802352827,
          -0.19696122492431448,
          -0.20431849127413326,
          0.4109242642295728,
          0.8133638202969613,
          1.093145759449356,
          -0.121322347865863,
          0.06936447158008065,
          0.5993700213794235,
          0.268643737797982,
          -0.48795834442861497,
          0.2290438368270125,
          0.26352753374425636,
          -0.9409605736411955,
          -0.34192605747160976,
          0.18887142893026018,
          0.4366631416391873,
          -0.2502082041852109,
          0.5037711444614371,
          -0.22794556949382747,
          0.5794100215198887,
          0.10770608249941159
         ],
         "z": [
          -0.027914827589415558,
          -0.21046427237824408,
          0.01790025632089014,
          0.031559373605680716,
          0.09007924055120134,
          0.1686776582091048,
          0.2578921582556178,
          -0.021879317886719693,
          0.02075957026477988,
          -0.1976327249881466,
          -0.07531800937912006,
          0.1021502599565897,
          -0.20684443044964468,
          0.06129967245709893,
          -0.15162752361780882,
          0.2777769027031361,
          0.13818322788071968,
          0.02666831561259402,
          -0.12030552339473075,
          0.21366517222471595,
          -0.23944404324495341,
          0.20845723241671524,
          0.2923967507452423,
          0.039123258742880855,
          0.12502108270287854,
          -0.2534200423446577,
          0.09491057609939192,
          -0.07849420513792416,
          -0.14590889573002905,
          0.04077107906717892,
          -0.07722298907343594,
          -0.1455249720051306,
          0.2256691497201195,
          0.15781081295822044,
          -0.14304958178613905,
          -0.16433230665302548,
          -0.268350375693936,
          0.0936990824798,
          0.07292704569269227,
          -0.08008230301732598,
          0.07724769316110412,
          -0.3492303773059665,
          0.19250921171270954,
          0.26386794551341586,
          0.2987427457551086,
          -0.09767814404562944,
          0.16670563660480456,
          0.08372684903359313,
          -0.017115024248513314,
          -0.08929400847882457
         ]
        },
        {
         "hovertemplate": "color=versicolor<br>PC 1=%{x}<br>PC 2=%{y}<br>PC 3=%{z}<extra></extra>",
         "legendgroup": "versicolor",
         "marker": {
          "color": "#EF553B",
          "symbol": "circle"
         },
         "mode": "markers",
         "name": "versicolor",
         "scene": "scene",
         "showlegend": true,
         "type": "scatter3d",
         "x": [
          1.2848256888583511,
          0.9324885323123175,
          1.4643023219913933,
          0.18331771995836993,
          1.0881032577116652,
          0.6416690842580771,
          1.095060662632446,
          -0.7491226698296579,
          1.044131826053435,
          -0.008745404082896643,
          -0.5078408838353266,
          0.5116985574475967,
          0.26497650811204565,
          0.9849345104708896,
          -0.17392537168176844,
          0.9278607809442465,
          0.6602837616969366,
          0.23610499331767104,
          0.9447337280198123,
          0.04522697629869915,
          1.116283177350049,
          0.3578884179973066,
          1.2981838753589126,
          0.9217289224470361,
          0.7148533259114107,
          0.9001743731721665,
          1.3320244367220875,
          1.5578021550660697,
          0.8132906498175406,
          -0.3055837780243096,
          -0.06812649206836424,
          -0.1896224723785025,
          0.1364287115580143,
          1.38002643591551,
          0.5880064433398631,
          0.8068583125004116,
          1.220690882444352,
          0.8150952357665986,
          0.24595767988669184,
          0.16641321714545615,
          0.46480028840377857,
          0.8908151984694486,
          0.23054802355945464,
          -0.7045317592446642,
          0.35698149470104645,
          0.3319344799450578,
          0.3762156510666698,
          0.6425760075543372,
          -0.9064698649488364,
          0.2990008418781427
         ],
         "y": [
          0.685160470467308,
          0.3183336382626284,
          0.5042628153092036,
          -0.8279590118206316,
          0.074590675197716,
          -0.4182468715686788,
          0.28346827006152836,
          -1.0048909611818948,
          0.2283618997883953,
          -0.7230819050048339,
          -1.2659711905263928,
          -0.10398123549904063,
          -0.550036463680474,
          -0.12481785412635765,
          -0.2548542087025893,
          0.4671794944415101,
          -0.35296966572385075,
          -0.33361076682491536,
          -0.5431455507797659,
          -0.5838343774718641,
          -0.08461685219478855,
          -0.06892503165601398,
          -0.3277873083339173,
          -0.1827377936213676,
          0.14905594436978456,
          0.32850447383432296,
          0.24444087601634326,
          0.26749544731025426,
          -0.16335030068761647,
          -0.36826218975458774,
          -0.7051721317994648,
          -0.6802867635281328,
          -0.31403243824923666,
          -0.42095428731388196,
          -0.48428741998121855,
          0.19418231471315017,
          0.40761959361100675,
          -0.37203705990950137,
          -0.2685243966220151,
          -0.6819267248636264,
          -0.6707115445117202,
          -0.03446444436826919,
          -0.40438584800732497,
          -1.0122482275317137,
          -0.5049100933371086,
          -0.21265468378117003,
          -0.2932189292514191,
          0.01773819011241613,
          -0.7560933665990135,
          -0.3488978064503359
         ],
         "z": [
          -0.40656802546769416,
          -0.01801418664624036,
          -0.3383257649808962,
          -0.1795913918753557,
          -0.3077578962347849,
          0.04107609082395546,
          0.16981023986057503,
          0.012302919237594852,
          -0.41533608475939776,
          0.28114143117640944,
          -0.26981718276885325,
          0.13054775024048604,
          -0.6941468301444197,
          -0.06211440832226149,
          0.0904576907257044,
          -0.31462097583217236,
          0.3280275283785948,
          -0.2711618372510673,
          -0.4995190464851132,
          -0.23500210497205629,
          0.45962099135910384,
          -0.22985388760895162,
          -0.34785435225730854,
          -0.23107177773628537,
          -0.32180093724447406,
          -0.31620907371157414,
          -0.5217027796644195,
          -0.16492098374358044,
          0.035424504846159936,
          -0.3184915806230472,
          -0.24421381043355483,
          -0.30642056121765876,
          -0.17724276601124456,
          0.016167127520728235,
          0.44443349863980725,
          0.3889630630982105,
          -0.2371670098838759,
          -0.6147208425918225,
          0.18836681164619432,
          -0.060009225855338466,
          -0.02430685571895237,
          -0.009946932894349177,
          -0.22941024143915686,
          -0.10569114890302007,
          0.016617170198265092,
          0.0832042908956762,
          0.07799635108767523,
          -0.20539496698326098,
          -0.0125996475578903,
          0.010581660495570334
         ]
        },
        {
         "hovertemplate": "color=virginica<br>PC 1=%{x}<br>PC 2=%{y}<br>PC 3=%{z}<extra></extra>",
         "legendgroup": "virginica",
         "marker": {
          "color": "#00cc96",
          "symbol": "circle"
         },
         "mode": "markers",
         "name": "virginica",
         "scene": "scene",
         "showlegend": true,
         "type": "scatter3d",
         "x": [
          2.531192727803627,
          1.4152358767039017,
          2.616676015995689,
          1.9715310530434347,
          2.350005920044639,
          3.397038736053257,
          0.5212322439097731,
          2.932587068993687,
          2.3212288165733765,
          2.916750966786071,
          1.6617741536365307,
          1.8034019529650902,
          2.165591796080144,
          1.3461635794584506,
          1.5859282238732204,
          1.904456374793426,
          1.9496890593990683,
          3.4870553642902777,
          3.795645422072882,
          1.300791712637656,
          2.4278179130660447,
          1.1990011054655598,
          3.499920038924536,
          1.3887661316914641,
          2.275430503872204,
          2.61409047381083,
          1.258508160511487,
          1.2911320591150202,
          2.1236087227738936,
          2.3880030160034664,
          2.841672778103869,
          3.2306736614320917,
          2.1594376424890487,
          1.4441612423295085,
          1.7812948100451114,
          3.076499931687186,
          2.144243314302081,
          1.9050981488140744,
          1.1693263393414992,
          2.107611143257241,
          2.314154705235599,
          1.9222678009026002,
          1.4152358767039017,
          2.5630133750774746,
          2.418746182732824,
          1.944109794546967,
          1.527166614814516,
          1.7643457170444279,
          1.9009416142184226,
          1.390188861947913
         ],
         "y": [
          -0.0098491094988029,
          -0.5749163475464896,
          0.34390315134173366,
          -0.17972790435224587,
          -0.04026094714253161,
          0.5508366730280546,
          -1.1927587270006452,
          0.3555000029774957,
          -0.24383150231069073,
          0.782791948815277,
          0.24222840775506635,
          -0.21563761733355555,
          0.21627558507402414,
          -0.7768183473443394,
          -0.5396407140267188,
          0.11925069209197202,
          0.04194325966321086,
          1.1757393297134278,
          0.25732297342047905,
          -0.761149636435063,
          0.37819601261704994,
          -0.6060915277579306,
          0.46067409891189437,
          -0.20439932735215097,
          0.33499060582167656,
          0.5609013551230768,
          -0.17970479472274678,
          -0.11666865117401183,
          -0.20972947667730302,
          0.4646398047087358,
          0.37526916719510284,
          1.374165086793046,
          -0.2172775786690494,
          -0.14341341045758094,
          -0.49990168107813665,
          0.688085677571175,
          0.14006420108978898,
          0.04930052601302964,
          -0.16499026202310993,
          0.372287871960797,
          0.18365127916901836,
          0.40920346681606157,
          -0.5749163475464896,
          0.2778626029291939,
          0.3047981978546912,
          0.18753230280060476,
          -0.3753169825804883,
          0.0788588545184753,
          0.11662795851202279,
          -0.2826609379905509
         ],
         "z": [
          0.7601654272458952,
          0.29632252738796416,
          -0.11078788321910894,
          0.10842466246342246,
          0.28538956318444125,
          -0.3484375557974676,
          0.5456592956468124,
          -0.4202399357679684,
          -0.34830439493484555,
          0.4233354176825587,
          0.24244018972576917,
          -0.03764816823148259,
          0.0333266418443253,
          0.2819028821184645,
          0.6290293264080108,
          0.4796398196265909,
          0.04418616763012182,
          0.1338948739360982,
          -0.5137677638178045,
          -0.3449950383134186,
          0.21911932430194347,
          0.5118555086970008,
          -0.573182242568003,
          -0.06452275663126843,
          0.2861500911691497,
          -0.20553452435362515,
          0.045847703927249905,
          0.23125646265997035,
          0.15418002392882993,
          -0.4495301919418502,
          -0.498898075870769,
          -0.11454820547541911,
          0.2087631671308377,
          -0.1532338880630905,
          -0.1728751891134206,
          -0.3355922924345406,
          0.7348789367255112,
          0.16218023577073665,
          0.28183584020848024,
          0.02729113214163091,
          0.32269374717305926,
          0.11358659579935708,
          0.29632252738796416,
          0.29256952459674285,
          0.5044826639771802,
          0.17782509063265786,
          -0.1218981718671819,
          0.1304816312878482,
          0.7232515634899171,
          0.36290964808537535
         ]
        }
       ],
       "layout": {
        "height": 600,
        "legend": {
         "title": {
          "text": "color"
         },
         "tracegroupgap": 0
        },
        "scene": {
         "domain": {
          "x": [
           0,
           1
          ],
          "y": [
           0,
           1
          ]
         },
         "xaxis": {
          "title": {
           "text": "PC 1"
          }
         },
         "yaxis": {
          "title": {
           "text": "PC 2"
          }
         },
         "zaxis": {
          "title": {
           "text": "PC 3"
          }
         }
        },
        "template": {
         "data": {
          "bar": [
           {
            "error_x": {
             "color": "#2a3f5f"
            },
            "error_y": {
             "color": "#2a3f5f"
            },
            "marker": {
             "line": {
              "color": "#E5ECF6",
              "width": 0.5
             },
             "pattern": {
              "fillmode": "overlay",
              "size": 10,
              "solidity": 0.2
             }
            },
            "type": "bar"
           }
          ],
          "barpolar": [
           {
            "marker": {
             "line": {
              "color": "#E5ECF6",
              "width": 0.5
             },
             "pattern": {
              "fillmode": "overlay",
              "size": 10,
              "solidity": 0.2
             }
            },
            "type": "barpolar"
           }
          ],
          "carpet": [
           {
            "aaxis": {
             "endlinecolor": "#2a3f5f",
             "gridcolor": "white",
             "linecolor": "white",
             "minorgridcolor": "white",
             "startlinecolor": "#2a3f5f"
            },
            "baxis": {
             "endlinecolor": "#2a3f5f",
             "gridcolor": "white",
             "linecolor": "white",
             "minorgridcolor": "white",
             "startlinecolor": "#2a3f5f"
            },
            "type": "carpet"
           }
          ],
          "choropleth": [
           {
            "colorbar": {
             "outlinewidth": 0,
             "ticks": ""
            },
            "type": "choropleth"
           }
          ],
          "contour": [
           {
            "colorbar": {
             "outlinewidth": 0,
             "ticks": ""
            },
            "colorscale": [
             [
              0,
              "#0d0887"
             ],
             [
              0.1111111111111111,
              "#46039f"
             ],
             [
              0.2222222222222222,
              "#7201a8"
             ],
             [
              0.3333333333333333,
              "#9c179e"
             ],
             [
              0.4444444444444444,
              "#bd3786"
             ],
             [
              0.5555555555555556,
              "#d8576b"
             ],
             [
              0.6666666666666666,
              "#ed7953"
             ],
             [
              0.7777777777777778,
              "#fb9f3a"
             ],
             [
              0.8888888888888888,
              "#fdca26"
             ],
             [
              1,
              "#f0f921"
             ]
            ],
            "type": "contour"
           }
          ],
          "contourcarpet": [
           {
            "colorbar": {
             "outlinewidth": 0,
             "ticks": ""
            },
            "type": "contourcarpet"
           }
          ],
          "heatmap": [
           {
            "colorbar": {
             "outlinewidth": 0,
             "ticks": ""
            },
            "colorscale": [
             [
              0,
              "#0d0887"
             ],
             [
              0.1111111111111111,
              "#46039f"
             ],
             [
              0.2222222222222222,
              "#7201a8"
             ],
             [
              0.3333333333333333,
              "#9c179e"
             ],
             [
              0.4444444444444444,
              "#bd3786"
             ],
             [
              0.5555555555555556,
              "#d8576b"
             ],
             [
              0.6666666666666666,
              "#ed7953"
             ],
             [
              0.7777777777777778,
              "#fb9f3a"
             ],
             [
              0.8888888888888888,
              "#fdca26"
             ],
             [
              1,
              "#f0f921"
             ]
            ],
            "type": "heatmap"
           }
          ],
          "heatmapgl": [
           {
            "colorbar": {
             "outlinewidth": 0,
             "ticks": ""
            },
            "colorscale": [
             [
              0,
              "#0d0887"
             ],
             [
              0.1111111111111111,
              "#46039f"
             ],
             [
              0.2222222222222222,
              "#7201a8"
             ],
             [
              0.3333333333333333,
              "#9c179e"
             ],
             [
              0.4444444444444444,
              "#bd3786"
             ],
             [
              0.5555555555555556,
              "#d8576b"
             ],
             [
              0.6666666666666666,
              "#ed7953"
             ],
             [
              0.7777777777777778,
              "#fb9f3a"
             ],
             [
              0.8888888888888888,
              "#fdca26"
             ],
             [
              1,
              "#f0f921"
             ]
            ],
            "type": "heatmapgl"
           }
          ],
          "histogram": [
           {
            "marker": {
             "pattern": {
              "fillmode": "overlay",
              "size": 10,
              "solidity": 0.2
             }
            },
            "type": "histogram"
           }
          ],
          "histogram2d": [
           {
            "colorbar": {
             "outlinewidth": 0,
             "ticks": ""
            },
            "colorscale": [
             [
              0,
              "#0d0887"
             ],
             [
              0.1111111111111111,
              "#46039f"
             ],
             [
              0.2222222222222222,
              "#7201a8"
             ],
             [
              0.3333333333333333,
              "#9c179e"
             ],
             [
              0.4444444444444444,
              "#bd3786"
             ],
             [
              0.5555555555555556,
              "#d8576b"
             ],
             [
              0.6666666666666666,
              "#ed7953"
             ],
             [
              0.7777777777777778,
              "#fb9f3a"
             ],
             [
              0.8888888888888888,
              "#fdca26"
             ],
             [
              1,
              "#f0f921"
             ]
            ],
            "type": "histogram2d"
           }
          ],
          "histogram2dcontour": [
           {
            "colorbar": {
             "outlinewidth": 0,
             "ticks": ""
            },
            "colorscale": [
             [
              0,
              "#0d0887"
             ],
             [
              0.1111111111111111,
              "#46039f"
             ],
             [
              0.2222222222222222,
              "#7201a8"
             ],
             [
              0.3333333333333333,
              "#9c179e"
             ],
             [
              0.4444444444444444,
              "#bd3786"
             ],
             [
              0.5555555555555556,
              "#d8576b"
             ],
             [
              0.6666666666666666,
              "#ed7953"
             ],
             [
              0.7777777777777778,
              "#fb9f3a"
             ],
             [
              0.8888888888888888,
              "#fdca26"
             ],
             [
              1,
              "#f0f921"
             ]
            ],
            "type": "histogram2dcontour"
           }
          ],
          "mesh3d": [
           {
            "colorbar": {
             "outlinewidth": 0,
             "ticks": ""
            },
            "type": "mesh3d"
           }
          ],
          "parcoords": [
           {
            "line": {
             "colorbar": {
              "outlinewidth": 0,
              "ticks": ""
             }
            },
            "type": "parcoords"
           }
          ],
          "pie": [
           {
            "automargin": true,
            "type": "pie"
           }
          ],
          "scatter": [
           {
            "fillpattern": {
             "fillmode": "overlay",
             "size": 10,
             "solidity": 0.2
            },
            "type": "scatter"
           }
          ],
          "scatter3d": [
           {
            "line": {
             "colorbar": {
              "outlinewidth": 0,
              "ticks": ""
             }
            },
            "marker": {
             "colorbar": {
              "outlinewidth": 0,
              "ticks": ""
             }
            },
            "type": "scatter3d"
           }
          ],
          "scattercarpet": [
           {
            "marker": {
             "colorbar": {
              "outlinewidth": 0,
              "ticks": ""
             }
            },
            "type": "scattercarpet"
           }
          ],
          "scattergeo": [
           {
            "marker": {
             "colorbar": {
              "outlinewidth": 0,
              "ticks": ""
             }
            },
            "type": "scattergeo"
           }
          ],
          "scattergl": [
           {
            "marker": {
             "colorbar": {
              "outlinewidth": 0,
              "ticks": ""
             }
            },
            "type": "scattergl"
           }
          ],
          "scattermapbox": [
           {
            "marker": {
             "colorbar": {
              "outlinewidth": 0,
              "ticks": ""
             }
            },
            "type": "scattermapbox"
           }
          ],
          "scatterpolar": [
           {
            "marker": {
             "colorbar": {
              "outlinewidth": 0,
              "ticks": ""
             }
            },
            "type": "scatterpolar"
           }
          ],
          "scatterpolargl": [
           {
            "marker": {
             "colorbar": {
              "outlinewidth": 0,
              "ticks": ""
             }
            },
            "type": "scatterpolargl"
           }
          ],
          "scatterternary": [
           {
            "marker": {
             "colorbar": {
              "outlinewidth": 0,
              "ticks": ""
             }
            },
            "type": "scatterternary"
           }
          ],
          "surface": [
           {
            "colorbar": {
             "outlinewidth": 0,
             "ticks": ""
            },
            "colorscale": [
             [
              0,
              "#0d0887"
             ],
             [
              0.1111111111111111,
              "#46039f"
             ],
             [
              0.2222222222222222,
              "#7201a8"
             ],
             [
              0.3333333333333333,
              "#9c179e"
             ],
             [
              0.4444444444444444,
              "#bd3786"
             ],
             [
              0.5555555555555556,
              "#d8576b"
             ],
             [
              0.6666666666666666,
              "#ed7953"
             ],
             [
              0.7777777777777778,
              "#fb9f3a"
             ],
             [
              0.8888888888888888,
              "#fdca26"
             ],
             [
              1,
              "#f0f921"
             ]
            ],
            "type": "surface"
           }
          ],
          "table": [
           {
            "cells": {
             "fill": {
              "color": "#EBF0F8"
             },
             "line": {
              "color": "white"
             }
            },
            "header": {
             "fill": {
              "color": "#C8D4E3"
             },
             "line": {
              "color": "white"
             }
            },
            "type": "table"
           }
          ]
         },
         "layout": {
          "annotationdefaults": {
           "arrowcolor": "#2a3f5f",
           "arrowhead": 0,
           "arrowwidth": 1
          },
          "autotypenumbers": "strict",
          "coloraxis": {
           "colorbar": {
            "outlinewidth": 0,
            "ticks": ""
           }
          },
          "colorscale": {
           "diverging": [
            [
             0,
             "#8e0152"
            ],
            [
             0.1,
             "#c51b7d"
            ],
            [
             0.2,
             "#de77ae"
            ],
            [
             0.3,
             "#f1b6da"
            ],
            [
             0.4,
             "#fde0ef"
            ],
            [
             0.5,
             "#f7f7f7"
            ],
            [
             0.6,
             "#e6f5d0"
            ],
            [
             0.7,
             "#b8e186"
            ],
            [
             0.8,
             "#7fbc41"
            ],
            [
             0.9,
             "#4d9221"
            ],
            [
             1,
             "#276419"
            ]
           ],
           "sequential": [
            [
             0,
             "#0d0887"
            ],
            [
             0.1111111111111111,
             "#46039f"
            ],
            [
             0.2222222222222222,
             "#7201a8"
            ],
            [
             0.3333333333333333,
             "#9c179e"
            ],
            [
             0.4444444444444444,
             "#bd3786"
            ],
            [
             0.5555555555555556,
             "#d8576b"
            ],
            [
             0.6666666666666666,
             "#ed7953"
            ],
            [
             0.7777777777777778,
             "#fb9f3a"
            ],
            [
             0.8888888888888888,
             "#fdca26"
            ],
            [
             1,
             "#f0f921"
            ]
           ],
           "sequentialminus": [
            [
             0,
             "#0d0887"
            ],
            [
             0.1111111111111111,
             "#46039f"
            ],
            [
             0.2222222222222222,
             "#7201a8"
            ],
            [
             0.3333333333333333,
             "#9c179e"
            ],
            [
             0.4444444444444444,
             "#bd3786"
            ],
            [
             0.5555555555555556,
             "#d8576b"
            ],
            [
             0.6666666666666666,
             "#ed7953"
            ],
            [
             0.7777777777777778,
             "#fb9f3a"
            ],
            [
             0.8888888888888888,
             "#fdca26"
            ],
            [
             1,
             "#f0f921"
            ]
           ]
          },
          "colorway": [
           "#636efa",
           "#EF553B",
           "#00cc96",
           "#ab63fa",
           "#FFA15A",
           "#19d3f3",
           "#FF6692",
           "#B6E880",
           "#FF97FF",
           "#FECB52"
          ],
          "font": {
           "color": "#2a3f5f"
          },
          "geo": {
           "bgcolor": "white",
           "lakecolor": "white",
           "landcolor": "#E5ECF6",
           "showlakes": true,
           "showland": true,
           "subunitcolor": "white"
          },
          "hoverlabel": {
           "align": "left"
          },
          "hovermode": "closest",
          "mapbox": {
           "style": "light"
          },
          "paper_bgcolor": "white",
          "plot_bgcolor": "#E5ECF6",
          "polar": {
           "angularaxis": {
            "gridcolor": "white",
            "linecolor": "white",
            "ticks": ""
           },
           "bgcolor": "#E5ECF6",
           "radialaxis": {
            "gridcolor": "white",
            "linecolor": "white",
            "ticks": ""
           }
          },
          "scene": {
           "xaxis": {
            "backgroundcolor": "#E5ECF6",
            "gridcolor": "white",
            "gridwidth": 2,
            "linecolor": "white",
            "showbackground": true,
            "ticks": "",
            "zerolinecolor": "white"
           },
           "yaxis": {
            "backgroundcolor": "#E5ECF6",
            "gridcolor": "white",
            "gridwidth": 2,
            "linecolor": "white",
            "showbackground": true,
            "ticks": "",
            "zerolinecolor": "white"
           },
           "zaxis": {
            "backgroundcolor": "#E5ECF6",
            "gridcolor": "white",
            "gridwidth": 2,
            "linecolor": "white",
            "showbackground": true,
            "ticks": "",
            "zerolinecolor": "white"
           }
          },
          "shapedefaults": {
           "line": {
            "color": "#2a3f5f"
           }
          },
          "ternary": {
           "aaxis": {
            "gridcolor": "white",
            "linecolor": "white",
            "ticks": ""
           },
           "baxis": {
            "gridcolor": "white",
            "linecolor": "white",
            "ticks": ""
           },
           "bgcolor": "#E5ECF6",
           "caxis": {
            "gridcolor": "white",
            "linecolor": "white",
            "ticks": ""
           }
          },
          "title": {
           "x": 0.05
          },
          "xaxis": {
           "automargin": true,
           "gridcolor": "white",
           "linecolor": "white",
           "ticks": "",
           "title": {
            "standoff": 15
           },
           "zerolinecolor": "white",
           "zerolinewidth": 2
          },
          "yaxis": {
           "automargin": true,
           "gridcolor": "white",
           "linecolor": "white",
           "ticks": "",
           "title": {
            "standoff": 15
           },
           "zerolinecolor": "white",
           "zerolinewidth": 2
          }
         }
        },
        "title": {
         "text": "PCA for iris setosa dataset "
        },
        "width": 600
       }
      }
     },
     "metadata": {},
     "output_type": "display_data"
    }
   ],
   "source": [
    "pca = PCA(n_components=3)\n",
    "components = pca.fit_transform(X)\n",
    "\n",
    "\n",
    "fig = px.scatter_3d(\n",
    "    components, x=0, y=1, z=2, color=df['species'],\n",
    "    width= 600, height= 600,\n",
    "    title=f'PCA for iris setosa dataset ',\n",
    "    labels={'0': 'PC 1', '1': 'PC 2', '2': 'PC 3'}\n",
    ")\n",
    "fig.show()"
   ]
  },
  {
   "attachments": {},
   "cell_type": "markdown",
   "metadata": {},
   "source": [
    "4. Perform Linear Discriminant Analysis "
   ]
  },
  {
   "cell_type": "code",
   "execution_count": 62,
   "metadata": {},
   "outputs": [
    {
     "data": {
      "image/png": "[encoded data removed]",
      "text/plain": [
       "<Figure size 576x396 with 2 Axes>"
      ]
     },
     "metadata": {},
     "output_type": "display_data"
    },
    {
     "data": {
      "text/plain": [
       "<AxesSubplot:title={'center':'LinearDiscriminantAnalysis Classification Report'}>"
      ]
     },
     "execution_count": 62,
     "metadata": {},
     "output_type": "execute_result"
    }
   ],
   "source": [
    "clf = LinearDiscriminantAnalysis()\n",
    "clf.fit(Xtrain, Ytrain)\n",
    "\n",
    "fn = dataset.target_names\n",
    "\n",
    "visualizer = ClassificationReport(clf, classes= fn, support=True)\n",
    "\n",
    "visualizer.fit(Xtrain, Ytrain)        # Fit the visualizer and the model\n",
    "visualizer.score(Xtest, Ytest)        # Evaluate the model on the test data\n",
    "visualizer.show()                       # Finalize and show the figure"
   ]
  },
  {
   "cell_type": "code",
   "execution_count": 63,
   "metadata": {},
   "outputs": [
    {
     "data": {
      "image/png": "[encoded data removed]",
      "text/plain": [
       "<Figure size 576x396 with 1 Axes>"
      ]
     },
     "metadata": {},
     "output_type": "display_data"
    },
    {
     "data": {
      "text/plain": [
       "<AxesSubplot:title={'center':'LinearDiscriminantAnalysis Confusion Matrix'}, xlabel='Predicted Class', ylabel='True Class'>"
      ]
     },
     "execution_count": 63,
     "metadata": {},
     "output_type": "execute_result"
    }
   ],
   "source": [
    "visualizer = ConfusionMatrix(clf, classes=fn)\n",
    "visualizer.fit(Xtrain, Ytrain)\n",
    "visualizer.score(Xtest, Ytest)\n",
    "visualizer.show()"
   ]
  }
 ],
 "metadata": {
  "kernelspec": {
   "display_name": "base",
   "language": "python",
   "name": "python3"
  },
  "language_info": {
   "codemirror_mode": {
    "name": "ipython",
    "version": 3
   },
   "file_extension": ".py",
   "mimetype": "text/x-python",
   "name": "python",
   "nbconvert_exporter": "python",
   "pygments_lexer": "ipython3",
   "version": "3.8.8"
  },
  "orig_nbformat": 4
 },
 "nbformat": 4,
 "nbformat_minor": 2
}
