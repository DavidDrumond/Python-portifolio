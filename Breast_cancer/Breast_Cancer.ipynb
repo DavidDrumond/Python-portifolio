{
 "cells": [
  {
   "cell_type": "code",
   "execution_count": 64,
   "metadata": {},
   "outputs": [],
   "source": [
    "from sklearn.datasets import load_breast_cancer\n",
    "from sklearn.model_selection import train_test_split\n",
    "from sklearn.decomposition import PCA\n",
    "import  matplotlib.pyplot as plt \n",
    "import seaborn as sns\n",
    "import pandas as pd \n",
    "import plotly.express as px\n",
    "import numpy as np \n"
   ]
  },
  {
   "cell_type": "code",
   "execution_count": 57,
   "metadata": {},
   "outputs": [
    {
     "data": {
      "text/plain": [
       "['DESCR',\n",
       " 'data',\n",
       " 'data_module',\n",
       " 'feature_names',\n",
       " 'filename',\n",
       " 'frame',\n",
       " 'target',\n",
       " 'target_names']"
      ]
     },
     "execution_count": 57,
     "metadata": {},
     "output_type": "execute_result"
    }
   ],
   "source": [
    "database = load_breast_cancer()\n",
    "dir(database)"
   ]
  },
  {
   "cell_type": "code",
   "execution_count": 58,
   "metadata": {},
   "outputs": [
    {
     "data": {
      "text/html": [
       "<div>\n",
       "<style scoped>\n",
       "    .dataframe tbody tr th:only-of-type {\n",
       "        vertical-align: middle;\n",
       "    }\n",
       "\n",
       "    .dataframe tbody tr th {\n",
       "        vertical-align: top;\n",
       "    }\n",
       "\n",
       "    .dataframe thead th {\n",
       "        text-align: right;\n",
       "    }\n",
       "</style>\n",
       "<table border=\"1\" class=\"dataframe\">\n",
       "  <thead>\n",
       "    <tr style=\"text-align: right;\">\n",
       "      <th></th>\n",
       "      <th>mean radius</th>\n",
       "      <th>mean texture</th>\n",
       "      <th>mean perimeter</th>\n",
       "      <th>mean area</th>\n",
       "      <th>mean smoothness</th>\n",
       "      <th>mean compactness</th>\n",
       "      <th>mean concavity</th>\n",
       "      <th>mean concave points</th>\n",
       "      <th>mean symmetry</th>\n",
       "      <th>mean fractal dimension</th>\n",
       "      <th>...</th>\n",
       "      <th>worst texture</th>\n",
       "      <th>worst perimeter</th>\n",
       "      <th>worst area</th>\n",
       "      <th>worst smoothness</th>\n",
       "      <th>worst compactness</th>\n",
       "      <th>worst concavity</th>\n",
       "      <th>worst concave points</th>\n",
       "      <th>worst symmetry</th>\n",
       "      <th>worst fractal dimension</th>\n",
       "      <th>cancer_type</th>\n",
       "    </tr>\n",
       "  </thead>\n",
       "  <tbody>\n",
       "    <tr>\n",
       "      <th>count</th>\n",
       "      <td>569</td>\n",
       "      <td>569</td>\n",
       "      <td>569</td>\n",
       "      <td>569</td>\n",
       "      <td>569</td>\n",
       "      <td>569</td>\n",
       "      <td>569</td>\n",
       "      <td>569</td>\n",
       "      <td>569</td>\n",
       "      <td>569</td>\n",
       "      <td>...</td>\n",
       "      <td>569</td>\n",
       "      <td>569</td>\n",
       "      <td>569</td>\n",
       "      <td>569</td>\n",
       "      <td>569</td>\n",
       "      <td>569</td>\n",
       "      <td>569</td>\n",
       "      <td>569</td>\n",
       "      <td>569</td>\n",
       "      <td>569</td>\n",
       "    </tr>\n",
       "    <tr>\n",
       "      <th>unique</th>\n",
       "      <td>456</td>\n",
       "      <td>479</td>\n",
       "      <td>522</td>\n",
       "      <td>539</td>\n",
       "      <td>474</td>\n",
       "      <td>537</td>\n",
       "      <td>537</td>\n",
       "      <td>542</td>\n",
       "      <td>432</td>\n",
       "      <td>499</td>\n",
       "      <td>...</td>\n",
       "      <td>511</td>\n",
       "      <td>514</td>\n",
       "      <td>544</td>\n",
       "      <td>411</td>\n",
       "      <td>529</td>\n",
       "      <td>539</td>\n",
       "      <td>492</td>\n",
       "      <td>500</td>\n",
       "      <td>535</td>\n",
       "      <td>2</td>\n",
       "    </tr>\n",
       "    <tr>\n",
       "      <th>top</th>\n",
       "      <td>12.34</td>\n",
       "      <td>19.83</td>\n",
       "      <td>134.7</td>\n",
       "      <td>512.2</td>\n",
       "      <td>0.1007</td>\n",
       "      <td>0.1147</td>\n",
       "      <td>0.0</td>\n",
       "      <td>0.0</td>\n",
       "      <td>0.1601</td>\n",
       "      <td>0.05907</td>\n",
       "      <td>...</td>\n",
       "      <td>27.26</td>\n",
       "      <td>101.7</td>\n",
       "      <td>624.1</td>\n",
       "      <td>0.1347</td>\n",
       "      <td>0.3416</td>\n",
       "      <td>0.0</td>\n",
       "      <td>0.0</td>\n",
       "      <td>0.2369</td>\n",
       "      <td>0.07427</td>\n",
       "      <td>benign</td>\n",
       "    </tr>\n",
       "    <tr>\n",
       "      <th>freq</th>\n",
       "      <td>4</td>\n",
       "      <td>3</td>\n",
       "      <td>3</td>\n",
       "      <td>3</td>\n",
       "      <td>5</td>\n",
       "      <td>3</td>\n",
       "      <td>13</td>\n",
       "      <td>13</td>\n",
       "      <td>4</td>\n",
       "      <td>3</td>\n",
       "      <td>...</td>\n",
       "      <td>3</td>\n",
       "      <td>3</td>\n",
       "      <td>2</td>\n",
       "      <td>4</td>\n",
       "      <td>3</td>\n",
       "      <td>13</td>\n",
       "      <td>13</td>\n",
       "      <td>3</td>\n",
       "      <td>3</td>\n",
       "      <td>357</td>\n",
       "    </tr>\n",
       "  </tbody>\n",
       "</table>\n",
       "<p>4 rows × 31 columns</p>\n",
       "</div>"
      ],
      "text/plain": [
       "       mean radius mean texture mean perimeter mean area mean smoothness  \\\n",
       "count          569          569            569       569             569   \n",
       "unique         456          479            522       539             474   \n",
       "top          12.34        19.83          134.7     512.2          0.1007   \n",
       "freq             4            3              3         3               5   \n",
       "\n",
       "       mean compactness mean concavity mean concave points mean symmetry  \\\n",
       "count               569            569                 569           569   \n",
       "unique              537            537                 542           432   \n",
       "top              0.1147            0.0                 0.0        0.1601   \n",
       "freq                  3             13                  13             4   \n",
       "\n",
       "       mean fractal dimension  ... worst texture worst perimeter worst area  \\\n",
       "count                     569  ...           569             569        569   \n",
       "unique                    499  ...           511             514        544   \n",
       "top                   0.05907  ...         27.26           101.7      624.1   \n",
       "freq                        3  ...             3               3          2   \n",
       "\n",
       "       worst smoothness worst compactness worst concavity  \\\n",
       "count               569               569             569   \n",
       "unique              411               529             539   \n",
       "top              0.1347            0.3416             0.0   \n",
       "freq                  4                 3              13   \n",
       "\n",
       "       worst concave points worst symmetry worst fractal dimension cancer_type  \n",
       "count                   569            569                     569         569  \n",
       "unique                  492            500                     535           2  \n",
       "top                     0.0         0.2369                 0.07427      benign  \n",
       "freq                     13              3                       3         357  \n",
       "\n",
       "[4 rows x 31 columns]"
      ]
     },
     "execution_count": 58,
     "metadata": {},
     "output_type": "execute_result"
    }
   ],
   "source": [
    "target_names = database.target_names\n",
    "feature_names = list(database.feature_names)\n",
    "\n",
    "feature_names.append(\"cancer_type\")\n",
    "X = database.data\n",
    "Y = database.target\n",
    "\n",
    "Yn = np.array([target_names[i] for i in Y])\n",
    "\n",
    "total_data = np.concatenate((X, Yn.reshape(569,1)) , axis = 1)\n",
    "df = pd.DataFrame(total_data, columns= feature_names)\n",
    "\n",
    "df.describe()\n",
    "\n"
   ]
  },
  {
   "cell_type": "code",
   "execution_count": 100,
   "metadata": {},
   "outputs": [
    {
     "data": {
      "text/plain": [
       "<matplotlib.collections.PathCollection at 0x1db9bf395b0>"
      ]
     },
     "execution_count": 100,
     "metadata": {},
     "output_type": "execute_result"
    },
    {
     "data": {
      "image/png": "[encoded data removed]",
      "text/plain": [
       "<Figure size 432x288 with 1 Axes>"
      ]
     },
     "metadata": {
      "needs_background": "light"
     },
     "output_type": "display_data"
    }
   ],
   "source": [
    "pca = PCA(n_components= 2).fit_transform(X)\n",
    "\n",
    "fig, axes = plt.subplots()\n",
    "colours = [\"red\" if i ==0 else \"blue\" for i in Y]\n",
    "axes.scatter(pca[:,0], pca[:,1], c = colours)\n",
    "plt.title(\"Breaast cancer PCA \")"
   ]
  }
 ],
 "metadata": {
  "kernelspec": {
   "display_name": "base",
   "language": "python",
   "name": "python3"
  },
  "language_info": {
   "codemirror_mode": {
    "name": "ipython",
    "version": 3
   },
   "file_extension": ".py",
   "mimetype": "text/x-python",
   "name": "python",
   "nbconvert_exporter": "python",
   "pygments_lexer": "ipython3",
   "version": "3.8.8"
  },
  "orig_nbformat": 4
 },
 "nbformat": 4,
 "nbformat_minor": 2
}
